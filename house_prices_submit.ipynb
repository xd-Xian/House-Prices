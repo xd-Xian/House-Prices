{
 "cells": [
  {
   "cell_type": "code",
   "execution_count": 101,
   "metadata": {},
   "outputs": [],
   "source": [
    "import pandas as pd\n",
    "pd.set_option('display.max_columns', None)\n",
    "pd.set_option('display.max_rows', None)\n",
    "import numpy as np\n",
    "import matplotlib.pyplot as plt\n",
    "%matplotlib inline\n",
    "import seaborn as sns"
   ]
  },
  {
   "cell_type": "code",
   "execution_count": 102,
   "metadata": {},
   "outputs": [],
   "source": [
    "from math import sqrt\n",
    "from scipy.stats import skew, boxcox_normmax\n",
    "from scipy.special import boxcox1p"
   ]
  },
  {
   "cell_type": "code",
   "execution_count": 103,
   "metadata": {},
   "outputs": [],
   "source": [
    "from sklearn.linear_model import LinearRegression, Lasso, Ridge, ElasticNet\n",
    "from sklearn.linear_model import LassoCV, RidgeCV, ElasticNetCV\n",
    "from sklearn.svm import SVR\n",
    "from xgboost import XGBRegressor\n",
    "from sklearn.tree import DecisionTreeRegressor\n",
    "from sklearn.ensemble import GradientBoostingRegressor, AdaBoostRegressor, BaggingRegressor\n",
    "from mlxtend.regressor import StackingRegressor, StackingCVRegressor\n",
    "from sklearn.model_selection import cross_val_score, train_test_split, KFold\n",
    "from sklearn.metrics import mean_squared_error\n",
    "from sklearn.preprocessing import StandardScaler, RobustScaler\n",
    "from sklearn.pipeline import make_pipeline"
   ]
  },
  {
   "cell_type": "markdown",
   "metadata": {},
   "source": [
    "## Load data"
   ]
  },
  {
   "cell_type": "code",
   "execution_count": 104,
   "metadata": {},
   "outputs": [
    {
     "data": {
      "text/plain": [
       "(1460, 80)"
      ]
     },
     "execution_count": 104,
     "metadata": {},
     "output_type": "execute_result"
    }
   ],
   "source": [
    "train = pd.read_csv('train.csv')\n",
    "train = train.drop('Id', axis=1)\n",
    "train.shape"
   ]
  },
  {
   "cell_type": "code",
   "execution_count": 105,
   "metadata": {},
   "outputs": [
    {
     "data": {
      "text/plain": [
       "(1459, 79)"
      ]
     },
     "execution_count": 105,
     "metadata": {},
     "output_type": "execute_result"
    }
   ],
   "source": [
    "test = pd.read_csv('test.csv')\n",
    "test_Id = test['Id']\n",
    "test = test.drop('Id', axis=1)\n",
    "test.shape"
   ]
  },
  {
   "cell_type": "markdown",
   "metadata": {},
   "source": [
    "## Outliers"
   ]
  },
  {
   "cell_type": "code",
   "execution_count": 106,
   "metadata": {},
   "outputs": [
    {
     "data": {
      "text/plain": [
       "(1456, 80)"
      ]
     },
     "execution_count": 106,
     "metadata": {},
     "output_type": "execute_result"
    }
   ],
   "source": [
    "# drop outliers: GrLivArea>4000\n",
    "outliers_index = train[train['GrLivArea']>4000].index\n",
    "train = train.drop(outliers_index, axis=0).reset_index(drop=True)\n",
    "train.shape"
   ]
  },
  {
   "cell_type": "code",
   "execution_count": 107,
   "metadata": {},
   "outputs": [
    {
     "data": {
      "text/plain": [
       "(2915, 79)"
      ]
     },
     "execution_count": 107,
     "metadata": {},
     "output_type": "execute_result"
    }
   ],
   "source": [
    "train_sale_price = train['SalePrice']\n",
    "features = train.columns.values[:-1]\n",
    "all_data = pd.concat([train[features], test]).reset_index(drop=True)\n",
    "all_data.shape"
   ]
  },
  {
   "cell_type": "code",
   "execution_count": 108,
   "metadata": {},
   "outputs": [
    {
     "data": {
      "text/html": [
       "<div>\n",
       "<style scoped>\n",
       "    .dataframe tbody tr th:only-of-type {\n",
       "        vertical-align: middle;\n",
       "    }\n",
       "\n",
       "    .dataframe tbody tr th {\n",
       "        vertical-align: top;\n",
       "    }\n",
       "\n",
       "    .dataframe thead th {\n",
       "        text-align: right;\n",
       "    }\n",
       "</style>\n",
       "<table border=\"1\" class=\"dataframe\">\n",
       "  <thead>\n",
       "    <tr style=\"text-align: right;\">\n",
       "      <th></th>\n",
       "      <th>MSSubClass</th>\n",
       "      <th>MSZoning</th>\n",
       "      <th>LotFrontage</th>\n",
       "      <th>LotArea</th>\n",
       "      <th>Street</th>\n",
       "      <th>Alley</th>\n",
       "      <th>LotShape</th>\n",
       "      <th>LandContour</th>\n",
       "      <th>Utilities</th>\n",
       "      <th>LotConfig</th>\n",
       "      <th>LandSlope</th>\n",
       "      <th>Neighborhood</th>\n",
       "      <th>Condition1</th>\n",
       "      <th>Condition2</th>\n",
       "      <th>BldgType</th>\n",
       "      <th>HouseStyle</th>\n",
       "      <th>OverallQual</th>\n",
       "      <th>OverallCond</th>\n",
       "      <th>YearBuilt</th>\n",
       "      <th>YearRemodAdd</th>\n",
       "      <th>RoofStyle</th>\n",
       "      <th>RoofMatl</th>\n",
       "      <th>Exterior1st</th>\n",
       "      <th>Exterior2nd</th>\n",
       "      <th>MasVnrType</th>\n",
       "      <th>MasVnrArea</th>\n",
       "      <th>ExterQual</th>\n",
       "      <th>ExterCond</th>\n",
       "      <th>Foundation</th>\n",
       "      <th>BsmtQual</th>\n",
       "      <th>BsmtCond</th>\n",
       "      <th>BsmtExposure</th>\n",
       "      <th>BsmtFinType1</th>\n",
       "      <th>BsmtFinSF1</th>\n",
       "      <th>BsmtFinType2</th>\n",
       "      <th>BsmtFinSF2</th>\n",
       "      <th>BsmtUnfSF</th>\n",
       "      <th>TotalBsmtSF</th>\n",
       "      <th>Heating</th>\n",
       "      <th>HeatingQC</th>\n",
       "      <th>CentralAir</th>\n",
       "      <th>Electrical</th>\n",
       "      <th>1stFlrSF</th>\n",
       "      <th>2ndFlrSF</th>\n",
       "      <th>LowQualFinSF</th>\n",
       "      <th>GrLivArea</th>\n",
       "      <th>BsmtFullBath</th>\n",
       "      <th>BsmtHalfBath</th>\n",
       "      <th>FullBath</th>\n",
       "      <th>HalfBath</th>\n",
       "      <th>BedroomAbvGr</th>\n",
       "      <th>KitchenAbvGr</th>\n",
       "      <th>KitchenQual</th>\n",
       "      <th>TotRmsAbvGrd</th>\n",
       "      <th>Functional</th>\n",
       "      <th>Fireplaces</th>\n",
       "      <th>FireplaceQu</th>\n",
       "      <th>GarageType</th>\n",
       "      <th>GarageYrBlt</th>\n",
       "      <th>GarageFinish</th>\n",
       "      <th>GarageCars</th>\n",
       "      <th>GarageArea</th>\n",
       "      <th>GarageQual</th>\n",
       "      <th>GarageCond</th>\n",
       "      <th>PavedDrive</th>\n",
       "      <th>WoodDeckSF</th>\n",
       "      <th>OpenPorchSF</th>\n",
       "      <th>EnclosedPorch</th>\n",
       "      <th>3SsnPorch</th>\n",
       "      <th>ScreenPorch</th>\n",
       "      <th>PoolArea</th>\n",
       "      <th>PoolQC</th>\n",
       "      <th>Fence</th>\n",
       "      <th>MiscFeature</th>\n",
       "      <th>MiscVal</th>\n",
       "      <th>MoSold</th>\n",
       "      <th>YrSold</th>\n",
       "      <th>SaleType</th>\n",
       "      <th>SaleCondition</th>\n",
       "    </tr>\n",
       "  </thead>\n",
       "  <tbody>\n",
       "    <tr>\n",
       "      <th>2910</th>\n",
       "      <td>160</td>\n",
       "      <td>RM</td>\n",
       "      <td>21.0</td>\n",
       "      <td>1936</td>\n",
       "      <td>Pave</td>\n",
       "      <td>NaN</td>\n",
       "      <td>Reg</td>\n",
       "      <td>Lvl</td>\n",
       "      <td>AllPub</td>\n",
       "      <td>Inside</td>\n",
       "      <td>Gtl</td>\n",
       "      <td>MeadowV</td>\n",
       "      <td>Norm</td>\n",
       "      <td>Norm</td>\n",
       "      <td>Twnhs</td>\n",
       "      <td>2Story</td>\n",
       "      <td>4</td>\n",
       "      <td>7</td>\n",
       "      <td>1970</td>\n",
       "      <td>1970</td>\n",
       "      <td>Gable</td>\n",
       "      <td>CompShg</td>\n",
       "      <td>CemntBd</td>\n",
       "      <td>CmentBd</td>\n",
       "      <td>None</td>\n",
       "      <td>0.0</td>\n",
       "      <td>TA</td>\n",
       "      <td>TA</td>\n",
       "      <td>CBlock</td>\n",
       "      <td>TA</td>\n",
       "      <td>TA</td>\n",
       "      <td>No</td>\n",
       "      <td>Unf</td>\n",
       "      <td>0.0</td>\n",
       "      <td>Unf</td>\n",
       "      <td>0.0</td>\n",
       "      <td>546.0</td>\n",
       "      <td>546.0</td>\n",
       "      <td>GasA</td>\n",
       "      <td>Gd</td>\n",
       "      <td>Y</td>\n",
       "      <td>SBrkr</td>\n",
       "      <td>546</td>\n",
       "      <td>546</td>\n",
       "      <td>0</td>\n",
       "      <td>1092</td>\n",
       "      <td>0.0</td>\n",
       "      <td>0.0</td>\n",
       "      <td>1</td>\n",
       "      <td>1</td>\n",
       "      <td>3</td>\n",
       "      <td>1</td>\n",
       "      <td>TA</td>\n",
       "      <td>5</td>\n",
       "      <td>Typ</td>\n",
       "      <td>0</td>\n",
       "      <td>NaN</td>\n",
       "      <td>NaN</td>\n",
       "      <td>NaN</td>\n",
       "      <td>NaN</td>\n",
       "      <td>0.0</td>\n",
       "      <td>0.0</td>\n",
       "      <td>NaN</td>\n",
       "      <td>NaN</td>\n",
       "      <td>Y</td>\n",
       "      <td>0</td>\n",
       "      <td>0</td>\n",
       "      <td>0</td>\n",
       "      <td>0</td>\n",
       "      <td>0</td>\n",
       "      <td>0</td>\n",
       "      <td>NaN</td>\n",
       "      <td>NaN</td>\n",
       "      <td>NaN</td>\n",
       "      <td>0</td>\n",
       "      <td>6</td>\n",
       "      <td>2006</td>\n",
       "      <td>WD</td>\n",
       "      <td>Normal</td>\n",
       "    </tr>\n",
       "    <tr>\n",
       "      <th>2911</th>\n",
       "      <td>160</td>\n",
       "      <td>RM</td>\n",
       "      <td>21.0</td>\n",
       "      <td>1894</td>\n",
       "      <td>Pave</td>\n",
       "      <td>NaN</td>\n",
       "      <td>Reg</td>\n",
       "      <td>Lvl</td>\n",
       "      <td>AllPub</td>\n",
       "      <td>Inside</td>\n",
       "      <td>Gtl</td>\n",
       "      <td>MeadowV</td>\n",
       "      <td>Norm</td>\n",
       "      <td>Norm</td>\n",
       "      <td>TwnhsE</td>\n",
       "      <td>2Story</td>\n",
       "      <td>4</td>\n",
       "      <td>5</td>\n",
       "      <td>1970</td>\n",
       "      <td>1970</td>\n",
       "      <td>Gable</td>\n",
       "      <td>CompShg</td>\n",
       "      <td>CemntBd</td>\n",
       "      <td>CmentBd</td>\n",
       "      <td>None</td>\n",
       "      <td>0.0</td>\n",
       "      <td>TA</td>\n",
       "      <td>TA</td>\n",
       "      <td>CBlock</td>\n",
       "      <td>TA</td>\n",
       "      <td>TA</td>\n",
       "      <td>No</td>\n",
       "      <td>Rec</td>\n",
       "      <td>252.0</td>\n",
       "      <td>Unf</td>\n",
       "      <td>0.0</td>\n",
       "      <td>294.0</td>\n",
       "      <td>546.0</td>\n",
       "      <td>GasA</td>\n",
       "      <td>TA</td>\n",
       "      <td>Y</td>\n",
       "      <td>SBrkr</td>\n",
       "      <td>546</td>\n",
       "      <td>546</td>\n",
       "      <td>0</td>\n",
       "      <td>1092</td>\n",
       "      <td>0.0</td>\n",
       "      <td>0.0</td>\n",
       "      <td>1</td>\n",
       "      <td>1</td>\n",
       "      <td>3</td>\n",
       "      <td>1</td>\n",
       "      <td>TA</td>\n",
       "      <td>6</td>\n",
       "      <td>Typ</td>\n",
       "      <td>0</td>\n",
       "      <td>NaN</td>\n",
       "      <td>CarPort</td>\n",
       "      <td>1970.0</td>\n",
       "      <td>Unf</td>\n",
       "      <td>1.0</td>\n",
       "      <td>286.0</td>\n",
       "      <td>TA</td>\n",
       "      <td>TA</td>\n",
       "      <td>Y</td>\n",
       "      <td>0</td>\n",
       "      <td>24</td>\n",
       "      <td>0</td>\n",
       "      <td>0</td>\n",
       "      <td>0</td>\n",
       "      <td>0</td>\n",
       "      <td>NaN</td>\n",
       "      <td>NaN</td>\n",
       "      <td>NaN</td>\n",
       "      <td>0</td>\n",
       "      <td>4</td>\n",
       "      <td>2006</td>\n",
       "      <td>WD</td>\n",
       "      <td>Abnorml</td>\n",
       "    </tr>\n",
       "    <tr>\n",
       "      <th>2912</th>\n",
       "      <td>20</td>\n",
       "      <td>RL</td>\n",
       "      <td>160.0</td>\n",
       "      <td>20000</td>\n",
       "      <td>Pave</td>\n",
       "      <td>NaN</td>\n",
       "      <td>Reg</td>\n",
       "      <td>Lvl</td>\n",
       "      <td>AllPub</td>\n",
       "      <td>Inside</td>\n",
       "      <td>Gtl</td>\n",
       "      <td>Mitchel</td>\n",
       "      <td>Norm</td>\n",
       "      <td>Norm</td>\n",
       "      <td>1Fam</td>\n",
       "      <td>1Story</td>\n",
       "      <td>5</td>\n",
       "      <td>7</td>\n",
       "      <td>1960</td>\n",
       "      <td>1996</td>\n",
       "      <td>Gable</td>\n",
       "      <td>CompShg</td>\n",
       "      <td>VinylSd</td>\n",
       "      <td>VinylSd</td>\n",
       "      <td>None</td>\n",
       "      <td>0.0</td>\n",
       "      <td>TA</td>\n",
       "      <td>TA</td>\n",
       "      <td>CBlock</td>\n",
       "      <td>TA</td>\n",
       "      <td>TA</td>\n",
       "      <td>No</td>\n",
       "      <td>ALQ</td>\n",
       "      <td>1224.0</td>\n",
       "      <td>Unf</td>\n",
       "      <td>0.0</td>\n",
       "      <td>0.0</td>\n",
       "      <td>1224.0</td>\n",
       "      <td>GasA</td>\n",
       "      <td>Ex</td>\n",
       "      <td>Y</td>\n",
       "      <td>SBrkr</td>\n",
       "      <td>1224</td>\n",
       "      <td>0</td>\n",
       "      <td>0</td>\n",
       "      <td>1224</td>\n",
       "      <td>1.0</td>\n",
       "      <td>0.0</td>\n",
       "      <td>1</td>\n",
       "      <td>0</td>\n",
       "      <td>4</td>\n",
       "      <td>1</td>\n",
       "      <td>TA</td>\n",
       "      <td>7</td>\n",
       "      <td>Typ</td>\n",
       "      <td>1</td>\n",
       "      <td>TA</td>\n",
       "      <td>Detchd</td>\n",
       "      <td>1960.0</td>\n",
       "      <td>Unf</td>\n",
       "      <td>2.0</td>\n",
       "      <td>576.0</td>\n",
       "      <td>TA</td>\n",
       "      <td>TA</td>\n",
       "      <td>Y</td>\n",
       "      <td>474</td>\n",
       "      <td>0</td>\n",
       "      <td>0</td>\n",
       "      <td>0</td>\n",
       "      <td>0</td>\n",
       "      <td>0</td>\n",
       "      <td>NaN</td>\n",
       "      <td>NaN</td>\n",
       "      <td>NaN</td>\n",
       "      <td>0</td>\n",
       "      <td>9</td>\n",
       "      <td>2006</td>\n",
       "      <td>WD</td>\n",
       "      <td>Abnorml</td>\n",
       "    </tr>\n",
       "    <tr>\n",
       "      <th>2913</th>\n",
       "      <td>85</td>\n",
       "      <td>RL</td>\n",
       "      <td>62.0</td>\n",
       "      <td>10441</td>\n",
       "      <td>Pave</td>\n",
       "      <td>NaN</td>\n",
       "      <td>Reg</td>\n",
       "      <td>Lvl</td>\n",
       "      <td>AllPub</td>\n",
       "      <td>Inside</td>\n",
       "      <td>Gtl</td>\n",
       "      <td>Mitchel</td>\n",
       "      <td>Norm</td>\n",
       "      <td>Norm</td>\n",
       "      <td>1Fam</td>\n",
       "      <td>SFoyer</td>\n",
       "      <td>5</td>\n",
       "      <td>5</td>\n",
       "      <td>1992</td>\n",
       "      <td>1992</td>\n",
       "      <td>Gable</td>\n",
       "      <td>CompShg</td>\n",
       "      <td>HdBoard</td>\n",
       "      <td>Wd Shng</td>\n",
       "      <td>None</td>\n",
       "      <td>0.0</td>\n",
       "      <td>TA</td>\n",
       "      <td>TA</td>\n",
       "      <td>PConc</td>\n",
       "      <td>Gd</td>\n",
       "      <td>TA</td>\n",
       "      <td>Av</td>\n",
       "      <td>GLQ</td>\n",
       "      <td>337.0</td>\n",
       "      <td>Unf</td>\n",
       "      <td>0.0</td>\n",
       "      <td>575.0</td>\n",
       "      <td>912.0</td>\n",
       "      <td>GasA</td>\n",
       "      <td>TA</td>\n",
       "      <td>Y</td>\n",
       "      <td>SBrkr</td>\n",
       "      <td>970</td>\n",
       "      <td>0</td>\n",
       "      <td>0</td>\n",
       "      <td>970</td>\n",
       "      <td>0.0</td>\n",
       "      <td>1.0</td>\n",
       "      <td>1</td>\n",
       "      <td>0</td>\n",
       "      <td>3</td>\n",
       "      <td>1</td>\n",
       "      <td>TA</td>\n",
       "      <td>6</td>\n",
       "      <td>Typ</td>\n",
       "      <td>0</td>\n",
       "      <td>NaN</td>\n",
       "      <td>NaN</td>\n",
       "      <td>NaN</td>\n",
       "      <td>NaN</td>\n",
       "      <td>0.0</td>\n",
       "      <td>0.0</td>\n",
       "      <td>NaN</td>\n",
       "      <td>NaN</td>\n",
       "      <td>Y</td>\n",
       "      <td>80</td>\n",
       "      <td>32</td>\n",
       "      <td>0</td>\n",
       "      <td>0</td>\n",
       "      <td>0</td>\n",
       "      <td>0</td>\n",
       "      <td>NaN</td>\n",
       "      <td>MnPrv</td>\n",
       "      <td>Shed</td>\n",
       "      <td>700</td>\n",
       "      <td>7</td>\n",
       "      <td>2006</td>\n",
       "      <td>WD</td>\n",
       "      <td>Normal</td>\n",
       "    </tr>\n",
       "    <tr>\n",
       "      <th>2914</th>\n",
       "      <td>60</td>\n",
       "      <td>RL</td>\n",
       "      <td>74.0</td>\n",
       "      <td>9627</td>\n",
       "      <td>Pave</td>\n",
       "      <td>NaN</td>\n",
       "      <td>Reg</td>\n",
       "      <td>Lvl</td>\n",
       "      <td>AllPub</td>\n",
       "      <td>Inside</td>\n",
       "      <td>Mod</td>\n",
       "      <td>Mitchel</td>\n",
       "      <td>Norm</td>\n",
       "      <td>Norm</td>\n",
       "      <td>1Fam</td>\n",
       "      <td>2Story</td>\n",
       "      <td>7</td>\n",
       "      <td>5</td>\n",
       "      <td>1993</td>\n",
       "      <td>1994</td>\n",
       "      <td>Gable</td>\n",
       "      <td>CompShg</td>\n",
       "      <td>HdBoard</td>\n",
       "      <td>HdBoard</td>\n",
       "      <td>BrkFace</td>\n",
       "      <td>94.0</td>\n",
       "      <td>TA</td>\n",
       "      <td>TA</td>\n",
       "      <td>PConc</td>\n",
       "      <td>Gd</td>\n",
       "      <td>TA</td>\n",
       "      <td>Av</td>\n",
       "      <td>LwQ</td>\n",
       "      <td>758.0</td>\n",
       "      <td>Unf</td>\n",
       "      <td>0.0</td>\n",
       "      <td>238.0</td>\n",
       "      <td>996.0</td>\n",
       "      <td>GasA</td>\n",
       "      <td>Ex</td>\n",
       "      <td>Y</td>\n",
       "      <td>SBrkr</td>\n",
       "      <td>996</td>\n",
       "      <td>1004</td>\n",
       "      <td>0</td>\n",
       "      <td>2000</td>\n",
       "      <td>0.0</td>\n",
       "      <td>0.0</td>\n",
       "      <td>2</td>\n",
       "      <td>1</td>\n",
       "      <td>3</td>\n",
       "      <td>1</td>\n",
       "      <td>TA</td>\n",
       "      <td>9</td>\n",
       "      <td>Typ</td>\n",
       "      <td>1</td>\n",
       "      <td>TA</td>\n",
       "      <td>Attchd</td>\n",
       "      <td>1993.0</td>\n",
       "      <td>Fin</td>\n",
       "      <td>3.0</td>\n",
       "      <td>650.0</td>\n",
       "      <td>TA</td>\n",
       "      <td>TA</td>\n",
       "      <td>Y</td>\n",
       "      <td>190</td>\n",
       "      <td>48</td>\n",
       "      <td>0</td>\n",
       "      <td>0</td>\n",
       "      <td>0</td>\n",
       "      <td>0</td>\n",
       "      <td>NaN</td>\n",
       "      <td>NaN</td>\n",
       "      <td>NaN</td>\n",
       "      <td>0</td>\n",
       "      <td>11</td>\n",
       "      <td>2006</td>\n",
       "      <td>WD</td>\n",
       "      <td>Normal</td>\n",
       "    </tr>\n",
       "  </tbody>\n",
       "</table>\n",
       "</div>"
      ],
      "text/plain": [
       "      MSSubClass MSZoning  LotFrontage  LotArea Street Alley LotShape  \\\n",
       "2910         160       RM         21.0     1936   Pave   NaN      Reg   \n",
       "2911         160       RM         21.0     1894   Pave   NaN      Reg   \n",
       "2912          20       RL        160.0    20000   Pave   NaN      Reg   \n",
       "2913          85       RL         62.0    10441   Pave   NaN      Reg   \n",
       "2914          60       RL         74.0     9627   Pave   NaN      Reg   \n",
       "\n",
       "     LandContour Utilities LotConfig LandSlope Neighborhood Condition1  \\\n",
       "2910         Lvl    AllPub    Inside       Gtl      MeadowV       Norm   \n",
       "2911         Lvl    AllPub    Inside       Gtl      MeadowV       Norm   \n",
       "2912         Lvl    AllPub    Inside       Gtl      Mitchel       Norm   \n",
       "2913         Lvl    AllPub    Inside       Gtl      Mitchel       Norm   \n",
       "2914         Lvl    AllPub    Inside       Mod      Mitchel       Norm   \n",
       "\n",
       "     Condition2 BldgType HouseStyle  OverallQual  OverallCond  YearBuilt  \\\n",
       "2910       Norm    Twnhs     2Story            4            7       1970   \n",
       "2911       Norm   TwnhsE     2Story            4            5       1970   \n",
       "2912       Norm     1Fam     1Story            5            7       1960   \n",
       "2913       Norm     1Fam     SFoyer            5            5       1992   \n",
       "2914       Norm     1Fam     2Story            7            5       1993   \n",
       "\n",
       "      YearRemodAdd RoofStyle RoofMatl Exterior1st Exterior2nd MasVnrType  \\\n",
       "2910          1970     Gable  CompShg     CemntBd     CmentBd       None   \n",
       "2911          1970     Gable  CompShg     CemntBd     CmentBd       None   \n",
       "2912          1996     Gable  CompShg     VinylSd     VinylSd       None   \n",
       "2913          1992     Gable  CompShg     HdBoard     Wd Shng       None   \n",
       "2914          1994     Gable  CompShg     HdBoard     HdBoard    BrkFace   \n",
       "\n",
       "      MasVnrArea ExterQual ExterCond Foundation BsmtQual BsmtCond  \\\n",
       "2910         0.0        TA        TA     CBlock       TA       TA   \n",
       "2911         0.0        TA        TA     CBlock       TA       TA   \n",
       "2912         0.0        TA        TA     CBlock       TA       TA   \n",
       "2913         0.0        TA        TA      PConc       Gd       TA   \n",
       "2914        94.0        TA        TA      PConc       Gd       TA   \n",
       "\n",
       "     BsmtExposure BsmtFinType1  BsmtFinSF1 BsmtFinType2  BsmtFinSF2  \\\n",
       "2910           No          Unf         0.0          Unf         0.0   \n",
       "2911           No          Rec       252.0          Unf         0.0   \n",
       "2912           No          ALQ      1224.0          Unf         0.0   \n",
       "2913           Av          GLQ       337.0          Unf         0.0   \n",
       "2914           Av          LwQ       758.0          Unf         0.0   \n",
       "\n",
       "      BsmtUnfSF  TotalBsmtSF Heating HeatingQC CentralAir Electrical  \\\n",
       "2910      546.0        546.0    GasA        Gd          Y      SBrkr   \n",
       "2911      294.0        546.0    GasA        TA          Y      SBrkr   \n",
       "2912        0.0       1224.0    GasA        Ex          Y      SBrkr   \n",
       "2913      575.0        912.0    GasA        TA          Y      SBrkr   \n",
       "2914      238.0        996.0    GasA        Ex          Y      SBrkr   \n",
       "\n",
       "      1stFlrSF  2ndFlrSF  LowQualFinSF  GrLivArea  BsmtFullBath  BsmtHalfBath  \\\n",
       "2910       546       546             0       1092           0.0           0.0   \n",
       "2911       546       546             0       1092           0.0           0.0   \n",
       "2912      1224         0             0       1224           1.0           0.0   \n",
       "2913       970         0             0        970           0.0           1.0   \n",
       "2914       996      1004             0       2000           0.0           0.0   \n",
       "\n",
       "      FullBath  HalfBath  BedroomAbvGr  KitchenAbvGr KitchenQual  \\\n",
       "2910         1         1             3             1          TA   \n",
       "2911         1         1             3             1          TA   \n",
       "2912         1         0             4             1          TA   \n",
       "2913         1         0             3             1          TA   \n",
       "2914         2         1             3             1          TA   \n",
       "\n",
       "      TotRmsAbvGrd Functional  Fireplaces FireplaceQu GarageType  GarageYrBlt  \\\n",
       "2910             5        Typ           0         NaN        NaN          NaN   \n",
       "2911             6        Typ           0         NaN    CarPort       1970.0   \n",
       "2912             7        Typ           1          TA     Detchd       1960.0   \n",
       "2913             6        Typ           0         NaN        NaN          NaN   \n",
       "2914             9        Typ           1          TA     Attchd       1993.0   \n",
       "\n",
       "     GarageFinish  GarageCars  GarageArea GarageQual GarageCond PavedDrive  \\\n",
       "2910          NaN         0.0         0.0        NaN        NaN          Y   \n",
       "2911          Unf         1.0       286.0         TA         TA          Y   \n",
       "2912          Unf         2.0       576.0         TA         TA          Y   \n",
       "2913          NaN         0.0         0.0        NaN        NaN          Y   \n",
       "2914          Fin         3.0       650.0         TA         TA          Y   \n",
       "\n",
       "      WoodDeckSF  OpenPorchSF  EnclosedPorch  3SsnPorch  ScreenPorch  \\\n",
       "2910           0            0              0          0            0   \n",
       "2911           0           24              0          0            0   \n",
       "2912         474            0              0          0            0   \n",
       "2913          80           32              0          0            0   \n",
       "2914         190           48              0          0            0   \n",
       "\n",
       "      PoolArea PoolQC  Fence MiscFeature  MiscVal  MoSold  YrSold SaleType  \\\n",
       "2910         0    NaN    NaN         NaN        0       6    2006       WD   \n",
       "2911         0    NaN    NaN         NaN        0       4    2006       WD   \n",
       "2912         0    NaN    NaN         NaN        0       9    2006       WD   \n",
       "2913         0    NaN  MnPrv        Shed      700       7    2006       WD   \n",
       "2914         0    NaN    NaN         NaN        0      11    2006       WD   \n",
       "\n",
       "     SaleCondition  \n",
       "2910        Normal  \n",
       "2911       Abnorml  \n",
       "2912       Abnorml  \n",
       "2913        Normal  \n",
       "2914        Normal  "
      ]
     },
     "execution_count": 108,
     "metadata": {},
     "output_type": "execute_result"
    }
   ],
   "source": [
    "all_data.tail()"
   ]
  },
  {
   "cell_type": "markdown",
   "metadata": {},
   "source": [
    "## Missing data"
   ]
  },
  {
   "cell_type": "code",
   "execution_count": 109,
   "metadata": {},
   "outputs": [],
   "source": [
    "missing_features = all_data.isnull().sum()\n",
    "missing_features = missing_features[missing_features.values>0].index.values\n",
    "missing_features_types = all_data[missing_features].dtypes"
   ]
  },
  {
   "cell_type": "code",
   "execution_count": 110,
   "metadata": {},
   "outputs": [
    {
     "name": "stdout",
     "output_type": "stream",
     "text": [
      "Categorial features with missing data: ['MSZoning' 'Alley' 'Utilities' 'Exterior1st' 'Exterior2nd' 'MasVnrType'\n",
      " 'BsmtQual' 'BsmtCond' 'BsmtExposure' 'BsmtFinType1' 'BsmtFinType2'\n",
      " 'Electrical' 'KitchenQual' 'Functional' 'FireplaceQu' 'GarageType'\n",
      " 'GarageFinish' 'GarageQual' 'GarageCond' 'PoolQC' 'Fence' 'MiscFeature'\n",
      " 'SaleType']\n",
      "Numeric features with missing data: ['LotFrontage' 'MasVnrArea' 'BsmtFinSF1' 'BsmtFinSF2' 'BsmtUnfSF'\n",
      " 'TotalBsmtSF' 'BsmtFullBath' 'BsmtHalfBath' 'GarageYrBlt' 'GarageCars'\n",
      " 'GarageArea']\n"
     ]
    }
   ],
   "source": [
    "missing_categorial_features = missing_features_types[missing_features_types=='object'].index.values\n",
    "missing_numeric_features = missing_features_types[missing_features_types!='object'].index.values\n",
    "print ('Categorial features with missing data:', missing_categorial_features)\n",
    "print ('Numeric features with missing data:', missing_numeric_features)"
   ]
  },
  {
   "cell_type": "code",
   "execution_count": 111,
   "metadata": {},
   "outputs": [],
   "source": [
    "all_data['LotFrontage'] = all_data.groupby('Neighborhood')['LotFrontage'].transform(lambda x: x.fillna(x.median()))"
   ]
  },
  {
   "cell_type": "code",
   "execution_count": 112,
   "metadata": {},
   "outputs": [],
   "source": [
    "zeros = ['MasVnrArea', \n",
    "         'BsmtFinSF1', 'BsmtFinSF2', 'BsmtUnfSF', 'TotalBsmtSF', 'BsmtFullBath', 'BsmtHalfBath', \n",
    "         'GarageYrBlt', 'GarageCars', 'GarageArea']\n",
    "for f in zeros:\n",
    "    all_data[f] = all_data[f].fillna(0)"
   ]
  },
  {
   "cell_type": "code",
   "execution_count": 113,
   "metadata": {},
   "outputs": [],
   "source": [
    "nones = ['Alley', 'MasVnrType', 'FireplaceQu', 'PoolQC', 'Fence', 'MiscFeature',\n",
    "         'BsmtQual', 'BsmtCond', 'BsmtExposure', 'BsmtFinType1', 'BsmtFinType2', \n",
    "         'GarageType', 'GarageFinish', 'GarageQual', 'GarageCond']\n",
    "for f in nones:\n",
    "    all_data[f] = all_data[f].fillna('None')"
   ]
  },
  {
   "cell_type": "code",
   "execution_count": 114,
   "metadata": {},
   "outputs": [],
   "source": [
    "others = ['MSZoning', 'Utilities', 'Exterior1st', 'Exterior2nd', 'Electrical', 'KitchenQual', 'Functional', 'SaleType']"
   ]
  },
  {
   "cell_type": "code",
   "execution_count": 115,
   "metadata": {},
   "outputs": [],
   "source": [
    "all_data['MSZoning'] = all_data['MSZoning'].fillna(all_data['MSZoning'].mode()[0])  #'RL'\n",
    "all_data['Exterior1st'] = all_data['Exterior1st'].fillna(all_data['Exterior1st'].mode()[0])  #'VinylSd'\n",
    "all_data['Exterior2nd'] = all_data['Exterior2nd'].fillna(all_data['Exterior2nd'].mode()[0])  #'VinylSd'\n",
    "all_data['Electrical'] = all_data['Electrical'].fillna(all_data['Electrical'].mode()[0])  #'SBrkr'\n",
    "all_data['KitchenQual'] = all_data['KitchenQual'].fillna('TA')\n",
    "all_data['Functional'] = all_data['Functional'].fillna(all_data['Functional'].mode()[0]) #'Typ'\n",
    "all_data['SaleType'] = all_data['SaleType'].fillna(all_data['SaleType'].mode()[0])  #'WD'"
   ]
  },
  {
   "cell_type": "code",
   "execution_count": 116,
   "metadata": {},
   "outputs": [],
   "source": [
    "all_data = all_data.drop('Utilities', axis=1)"
   ]
  },
  {
   "cell_type": "code",
   "execution_count": 117,
   "metadata": {},
   "outputs": [
    {
     "data": {
      "text/plain": [
       "(2915, 78)"
      ]
     },
     "execution_count": 117,
     "metadata": {},
     "output_type": "execute_result"
    }
   ],
   "source": [
    "all_data.shape"
   ]
  },
  {
   "cell_type": "markdown",
   "metadata": {},
   "source": [
    "## Features"
   ]
  },
  {
   "cell_type": "code",
   "execution_count": 118,
   "metadata": {},
   "outputs": [
    {
     "name": "stdout",
     "output_type": "stream",
     "text": [
      "Categorial features: 42 ['MSZoning' 'Street' 'Alley' 'LotShape' 'LandContour' 'LotConfig'\n",
      " 'LandSlope' 'Neighborhood' 'Condition1' 'Condition2' 'BldgType'\n",
      " 'HouseStyle' 'RoofStyle' 'RoofMatl' 'Exterior1st' 'Exterior2nd'\n",
      " 'MasVnrType' 'ExterQual' 'ExterCond' 'Foundation' 'BsmtQual' 'BsmtCond'\n",
      " 'BsmtExposure' 'BsmtFinType1' 'BsmtFinType2' 'Heating' 'HeatingQC'\n",
      " 'CentralAir' 'Electrical' 'KitchenQual' 'Functional' 'FireplaceQu'\n",
      " 'GarageType' 'GarageFinish' 'GarageQual' 'GarageCond' 'PavedDrive'\n",
      " 'PoolQC' 'Fence' 'MiscFeature' 'SaleType' 'SaleCondition']\n",
      "Numeric features: 36 ['MSSubClass' 'LotFrontage' 'LotArea' 'OverallQual' 'OverallCond'\n",
      " 'YearBuilt' 'YearRemodAdd' 'MasVnrArea' 'BsmtFinSF1' 'BsmtFinSF2'\n",
      " 'BsmtUnfSF' 'TotalBsmtSF' '1stFlrSF' '2ndFlrSF' 'LowQualFinSF'\n",
      " 'GrLivArea' 'BsmtFullBath' 'BsmtHalfBath' 'FullBath' 'HalfBath'\n",
      " 'BedroomAbvGr' 'KitchenAbvGr' 'TotRmsAbvGrd' 'Fireplaces' 'GarageYrBlt'\n",
      " 'GarageCars' 'GarageArea' 'WoodDeckSF' 'OpenPorchSF' 'EnclosedPorch'\n",
      " '3SsnPorch' 'ScreenPorch' 'PoolArea' 'MiscVal' 'MoSold' 'YrSold']\n"
     ]
    }
   ],
   "source": [
    "feature_types = all_data.dtypes\n",
    "categorial_features = feature_types[feature_types=='object'].index.values\n",
    "numeric_features = feature_types[feature_types!='object'].index.values\n",
    "print ('Categorial features:', len(categorial_features), categorial_features)\n",
    "print ('Numeric features:', len(numeric_features), numeric_features)"
   ]
  },
  {
   "cell_type": "markdown",
   "metadata": {},
   "source": [
    "### Numeric features"
   ]
  },
  {
   "cell_type": "markdown",
   "metadata": {},
   "source": [
    "#### Categorial features with obvious order"
   ]
  },
  {
   "cell_type": "code",
   "execution_count": 119,
   "metadata": {},
   "outputs": [],
   "source": [
    "all_data['MSSubClass'] = all_data['MSSubClass'].astype(str)\n",
    "all_data['MoSold'] = all_data['MoSold'].astype(str)\n",
    "all_data['YrSold'] = all_data['YrSold'].astype(str)"
   ]
  },
  {
   "cell_type": "code",
   "execution_count": 120,
   "metadata": {},
   "outputs": [],
   "source": [
    "# add new features\n",
    "all_data['RemodGap'] = all_data['YearRemodAdd'] - all_data['YearBuilt']\n",
    "all_data['RemodGap'] = all_data['RemodGap'].apply(lambda x: 0 if x<0 else x)\n",
    "\n",
    "#GrLivArea = 1stFlrSF + 2ndFlrSF + LowQualFinSF\n",
    "#TotalBsmtSF = BsmtFinSF1 + BsmtFinSF2 + BsmtUnfSF\n",
    "#all_data['TotalFinGrArea'] = all_data['1stFlrSF'] + all_data['2ndFlrSF']\n",
    "all_data['TotalFinArea'] = all_data['1stFlrSF'] + all_data['2ndFlrSF'] + all_data['BsmtFinSF1'] + all_data['BsmtFinSF2']\n",
    "#all_data['TotalArea'] = all_data['1stFlrSF'] + all_data['2ndFlrSF'] + all_data['TotalBsmtSF']\n",
    "\n",
    "all_data['TotalBath'] = all_data['FullBath'] + 0.5*all_data['HalfBath'] + all_data['BsmtFullBath'] + 0.5*all_data['BsmtHalfBath']"
   ]
  },
  {
   "cell_type": "code",
   "execution_count": 121,
   "metadata": {},
   "outputs": [],
   "source": [
    "all_data['HasPool'] = all_data['PoolArea'].apply(lambda x: 1 if x>0 else 0)\n",
    "all_data['Has2ndFlr'] = all_data['2ndFlrSF'].apply(lambda x: 1 if x>0 else 0)\n",
    "all_data['HasBsmt'] = all_data['TotalBsmtSF'].apply(lambda x: 1 if x>0 else 0)\n",
    "all_data['HasGarage'] = all_data['GarageArea'].apply(lambda x: 1 if x>0 else 0)\n",
    "all_data['HasFireplace'] = all_data['Fireplaces'].apply(lambda x: 1 if x>0 else 0)"
   ]
  },
  {
   "cell_type": "code",
   "execution_count": 122,
   "metadata": {},
   "outputs": [],
   "source": [
    "#all_data['ExterQual'] = all_data['ExterQual'].replace({'Ex': 4, 'Gd': 3, 'TA':2, 'Fa':1})\n",
    "#all_data['BsmtQual'] = all_data['BsmtQual'].replace({'Ex': 4, 'Gd': 3, 'TA':2, 'Fa':1, 'None':0})\n",
    "#all_data['BsmtExposure'] = all_data['BsmtExposure'].replace({'Gd': 4, 'Av': 3, 'Mn':2, 'No':1, 'None':0})\n",
    "#all_data['HeatingQC'] = all_data['HeatingQC'].replace({'Ex': 5, 'Gd': 4, 'TA':3, 'Fa':2, 'Po':1})\n",
    "#all_data['KitchenQual'] = all_data['KitchenQual'].replace({'Ex': 4, 'Gd': 3, 'TA':2, 'Fa':1})\n",
    "#all_data['FireplaceQu'] = all_data['FireplaceQu'].replace({'Ex': 5, 'Gd': 4, 'TA':3, 'Fa':2, 'Po':1, 'None':0})\n",
    "#all_data['OverallQual'] = all_data['OverallQual'].apply(lambda x: 9 if x==10 else 2 if x==1 else x)\n",
    "#all_data['OverallCond_1'] = all_data['OverallCond'].apply(lambda x: 1 if x>=5 else 0)\n",
    "all_data['CentralAir'] = all_data['CentralAir'].apply(lambda x: 1 if x=='Y' else 0)"
   ]
  },
  {
   "cell_type": "code",
   "execution_count": 123,
   "metadata": {},
   "outputs": [],
   "source": [
    "numeric_features = all_data.dtypes[all_data.dtypes != \"object\"].index\n",
    "skews = all_data[numeric_features].apply(lambda x: skew(x))\n",
    "#skews.sort_values(ascending=False)"
   ]
  },
  {
   "cell_type": "code",
   "execution_count": 124,
   "metadata": {},
   "outputs": [],
   "source": [
    "skew_features = skews[abs(skews)>0.75].index.values\n",
    "skew_features = np.delete(skew_features, np.argwhere(skew_features=='YearBuilt'))\n",
    "skew_features = np.delete(skew_features, np.argwhere(skew_features=='YearRemodAdd'))\n",
    "skew_features = np.delete(skew_features, np.argwhere(skew_features=='GarageYrBlt'))\n",
    "#skew_features"
   ]
  },
  {
   "cell_type": "code",
   "execution_count": 125,
   "metadata": {},
   "outputs": [
    {
     "name": "stderr",
     "output_type": "stream",
     "text": [
      "//anaconda3/lib/python3.7/site-packages/scipy/stats/stats.py:3399: PearsonRConstantInputWarning: An input array is constant; the correlation coefficent is not defined.\n",
      "  warnings.warn(PearsonRConstantInputWarning())\n",
      "//anaconda3/lib/python3.7/site-packages/scipy/stats/stats.py:3429: PearsonRNearConstantInputWarning: An input array is nearly constant; the computed correlation coefficent may be inaccurate.\n",
      "  warnings.warn(PearsonRNearConstantInputWarning())\n"
     ]
    }
   ],
   "source": [
    "for f in skew_features:\n",
    "    #all_data[f] = np.log1p(all_data[f])\n",
    "    #fit_lambda = 0.15\n",
    "    fit_lambda = boxcox_normmax(all_data[f] + 1)\n",
    "    all_data[f] = boxcox1p(all_data[f], fit_lambda)"
   ]
  },
  {
   "cell_type": "code",
   "execution_count": 126,
   "metadata": {},
   "outputs": [],
   "source": [
    "#dropping1 = ['MiscVal']#, 'PoolArea', '3SsnPorch'\n",
    "#all_data = all_data.drop(dropping1, axis=1)"
   ]
  },
  {
   "cell_type": "code",
   "execution_count": 127,
   "metadata": {},
   "outputs": [
    {
     "data": {
      "text/plain": [
       "\"poly_features = ['1stFlrSF', '2ndFlrSF', 'GrLivArea', 'TotalArea1', 'TotalArea2', \\n                 'BsmtFinSF1', 'TotalBsmtSF', 'GarageArea', 'TotRmsAbvGrd']\\nfor f in poly_features:\\n    all_data[f+'_**'] = all_data[f]**2\\n    all_data[f+'_***'] = all_data[f]**3\\n    all_data[f+'_root'] = np.sqrt(all_data[f])\""
      ]
     },
     "execution_count": 127,
     "metadata": {},
     "output_type": "execute_result"
    }
   ],
   "source": [
    "'''poly_features = ['1stFlrSF', '2ndFlrSF', 'GrLivArea', 'TotalArea1', 'TotalArea2', \n",
    "                 'BsmtFinSF1', 'TotalBsmtSF', 'GarageArea', 'TotRmsAbvGrd']\n",
    "for f in poly_features:\n",
    "    all_data[f+'_**'] = all_data[f]**2\n",
    "    all_data[f+'_***'] = all_data[f]**3\n",
    "    all_data[f+'_root'] = np.sqrt(all_data[f])'''"
   ]
  },
  {
   "cell_type": "markdown",
   "metadata": {},
   "source": [
    "### Categorial features"
   ]
  },
  {
   "cell_type": "code",
   "execution_count": 128,
   "metadata": {},
   "outputs": [],
   "source": [
    "#all_data['LotConfig'] = all_data['LotConfig'].apply(lambda x: 'FR' if x in ['FR2', 'FR3'] else x)\n",
    "#all_data['RoofStyle'] = all_data['RoofStyle'].apply(lambda x: 'Other' if x not in ['Gambrel', 'Flat', 'Mansard', 'Shed'] else x)\n",
    "#all_data['RoofMatl'] = all_data['RoofMatl'].apply(lambda x: 'Other' if x not in ['CompShg', 'Tar&Grv'] else x)\n",
    "#all_data['Heating'] = all_data['Heating'].apply(lambda x: 'Other' if x not in ['GasA', 'GasW'] else x)\n",
    "#all_data['SaleType'] = all_data['SaleType'].apply(lambda x: 'Other' if x not in ['WD', 'New'] else x)\n",
    "#all_data['SaleCondition'] = all_data['SaleCondition'].apply(lambda x: 'Other' if x not in ['Normal', 'Partial'] else x)\n",
    "#all_data['Condition2_Norm'] = all_data['Condition2'].apply(lambda x: 1 if x=='Norm' else 0)'''"
   ]
  },
  {
   "cell_type": "code",
   "execution_count": 129,
   "metadata": {},
   "outputs": [],
   "source": [
    "dropping1 = ['Street', 'PoolQC']\n",
    "all_data = all_data.drop(dropping1, axis=1)"
   ]
  },
  {
   "cell_type": "code",
   "execution_count": 130,
   "metadata": {},
   "outputs": [],
   "source": [
    "#dropping2 = ['Condition2']#'MiscFeature', , 'Exterior2nd'\n",
    "#all_data = all_data.drop(dropping2, axis=1)"
   ]
  },
  {
   "cell_type": "code",
   "execution_count": 131,
   "metadata": {},
   "outputs": [
    {
     "data": {
      "text/plain": [
       "Index(['MSSubClass', 'MSZoning', 'Alley', 'LotShape', 'LandContour',\n",
       "       'LotConfig', 'LandSlope', 'Neighborhood', 'Condition1', 'Condition2',\n",
       "       'BldgType', 'HouseStyle', 'RoofStyle', 'RoofMatl', 'Exterior1st',\n",
       "       'Exterior2nd', 'MasVnrType', 'ExterQual', 'ExterCond', 'Foundation',\n",
       "       'BsmtQual', 'BsmtCond', 'BsmtExposure', 'BsmtFinType1', 'BsmtFinType2',\n",
       "       'Heating', 'HeatingQC', 'Electrical', 'KitchenQual', 'Functional',\n",
       "       'FireplaceQu', 'GarageType', 'GarageFinish', 'GarageQual', 'GarageCond',\n",
       "       'PavedDrive', 'Fence', 'MiscFeature', 'MoSold', 'YrSold', 'SaleType',\n",
       "       'SaleCondition'],\n",
       "      dtype='object')"
      ]
     },
     "execution_count": 131,
     "metadata": {},
     "output_type": "execute_result"
    }
   ],
   "source": [
    "categories = all_data.dtypes[all_data.dtypes=='object'].index\n",
    "categories"
   ]
  },
  {
   "cell_type": "code",
   "execution_count": 132,
   "metadata": {},
   "outputs": [],
   "source": [
    "def one_hot(df, f):\n",
    "    f_dummies = pd.get_dummies(df[f], prefix=f)\n",
    "    df = pd.concat([df, f_dummies], axis=1, sort=False)\n",
    "    df = df.drop(f, axis=1)\n",
    "    return df"
   ]
  },
  {
   "cell_type": "code",
   "execution_count": 133,
   "metadata": {},
   "outputs": [],
   "source": [
    "for f in categories:\n",
    "    all_data = one_hot(all_data, f) "
   ]
  },
  {
   "cell_type": "code",
   "execution_count": 134,
   "metadata": {},
   "outputs": [
    {
     "data": {
      "text/plain": [
       "(2915, 330)"
      ]
     },
     "execution_count": 134,
     "metadata": {},
     "output_type": "execute_result"
    }
   ],
   "source": [
    "all_data.shape"
   ]
  },
  {
   "cell_type": "markdown",
   "metadata": {},
   "source": [
    "## Processed Data"
   ]
  },
  {
   "cell_type": "code",
   "execution_count": 135,
   "metadata": {},
   "outputs": [
    {
     "name": "stderr",
     "output_type": "stream",
     "text": [
      "//anaconda3/lib/python3.7/site-packages/ipykernel_launcher.py:2: SettingWithCopyWarning: \n",
      "A value is trying to be set on a copy of a slice from a DataFrame.\n",
      "Try using .loc[row_indexer,col_indexer] = value instead\n",
      "\n",
      "See the caveats in the documentation: http://pandas.pydata.org/pandas-docs/stable/indexing.html#indexing-view-versus-copy\n",
      "  \n"
     ]
    },
    {
     "data": {
      "text/html": [
       "<div>\n",
       "<style scoped>\n",
       "    .dataframe tbody tr th:only-of-type {\n",
       "        vertical-align: middle;\n",
       "    }\n",
       "\n",
       "    .dataframe tbody tr th {\n",
       "        vertical-align: top;\n",
       "    }\n",
       "\n",
       "    .dataframe thead th {\n",
       "        text-align: right;\n",
       "    }\n",
       "</style>\n",
       "<table border=\"1\" class=\"dataframe\">\n",
       "  <thead>\n",
       "    <tr style=\"text-align: right;\">\n",
       "      <th></th>\n",
       "      <th>GrLivArea</th>\n",
       "      <th>log_SalePrice</th>\n",
       "    </tr>\n",
       "  </thead>\n",
       "  <tbody>\n",
       "    <tr>\n",
       "      <th>30</th>\n",
       "      <td>8.786610</td>\n",
       "      <td>10.596660</td>\n",
       "    </tr>\n",
       "    <tr>\n",
       "      <th>495</th>\n",
       "      <td>7.909983</td>\n",
       "      <td>10.460271</td>\n",
       "    </tr>\n",
       "    <tr>\n",
       "      <th>532</th>\n",
       "      <td>6.836716</td>\n",
       "      <td>10.579005</td>\n",
       "    </tr>\n",
       "    <tr>\n",
       "      <th>914</th>\n",
       "      <td>7.337656</td>\n",
       "      <td>10.471978</td>\n",
       "    </tr>\n",
       "    <tr>\n",
       "      <th>966</th>\n",
       "      <td>8.336004</td>\n",
       "      <td>10.542733</td>\n",
       "    </tr>\n",
       "  </tbody>\n",
       "</table>\n",
       "</div>"
      ],
      "text/plain": [
       "     GrLivArea  log_SalePrice\n",
       "30    8.786610      10.596660\n",
       "495   7.909983      10.460271\n",
       "532   6.836716      10.579005\n",
       "914   7.337656      10.471978\n",
       "966   8.336004      10.542733"
      ]
     },
     "execution_count": 135,
     "metadata": {},
     "output_type": "execute_result"
    }
   ],
   "source": [
    "df = all_data.iloc[:train.shape[0], :]\n",
    "df['log_SalePrice'] = np.log1p(train['SalePrice'])\n",
    "#df[df['log_SalePrice']<10.6][['log_SalePrice']]\n",
    "df[df['log_SalePrice']<10.6][['GrLivArea', 'log_SalePrice']]"
   ]
  },
  {
   "cell_type": "code",
   "execution_count": 136,
   "metadata": {},
   "outputs": [
    {
     "data": {
      "text/plain": [
       "[<matplotlib.lines.Line2D at 0x1a22e66278>]"
      ]
     },
     "execution_count": 136,
     "metadata": {},
     "output_type": "execute_result"
    },
    {
     "data": {
      "image/png": "[encoded data removed]",
      "text/plain": [
       "<Figure size 432x288 with 1 Axes>"
      ]
     },
     "metadata": {
      "needs_background": "light"
     },
     "output_type": "display_data"
    }
   ],
   "source": [
    "plt.plot(df['GrLivArea'], df['log_SalePrice'], '.')"
   ]
  },
  {
   "cell_type": "code",
   "execution_count": 137,
   "metadata": {},
   "outputs": [],
   "source": [
    "log_train_sale_price = np.log1p(train_sale_price)"
   ]
  },
  {
   "cell_type": "code",
   "execution_count": 138,
   "metadata": {},
   "outputs": [
    {
     "name": "stdout",
     "output_type": "stream",
     "text": [
      "new train data:  (1451, 330)\n",
      "new test data:  (1459, 330)\n"
     ]
    }
   ],
   "source": [
    "train = all_data.iloc[:train.shape[0], :]\n",
    "test = all_data.iloc[train.shape[0]:, :]\n",
    "\n",
    "outliers_index = log_train_sale_price[log_train_sale_price<10.6].index\n",
    "train = train.drop(outliers_index, axis=0).reset_index(drop=True)\n",
    "log_train_sale_price = log_train_sale_price.drop(outliers_index).reset_index(drop=True)\n",
    "print ('new train data: ', train.shape)\n",
    "print ('new test data: ', test.shape)"
   ]
  },
  {
   "cell_type": "code",
   "execution_count": 139,
   "metadata": {},
   "outputs": [],
   "source": [
    "X = train\n",
    "y = log_train_sale_price"
   ]
  },
  {
   "cell_type": "markdown",
   "metadata": {},
   "source": [
    "## Simple model"
   ]
  },
  {
   "cell_type": "code",
   "execution_count": 140,
   "metadata": {},
   "outputs": [],
   "source": [
    "k = 10\n",
    "#kfolds = KFold(n_splits=k, shuffle=True, random_state=20)\n",
    "def cv_error(model):\n",
    "    errors = np.sqrt(-cross_val_score(model, X, y, scoring=\"neg_mean_squared_error\", cv=k))\n",
    "    return (errors)"
   ]
  },
  {
   "cell_type": "code",
   "execution_count": 141,
   "metadata": {},
   "outputs": [],
   "source": [
    "def get_error(actual_y, predict_y):\n",
    "    error = np.sqrt(mean_squared_error(actual_y, predict_y))\n",
    "    return (error)"
   ]
  },
  {
   "cell_type": "code",
   "execution_count": 142,
   "metadata": {},
   "outputs": [],
   "source": [
    "def submission_file(model_name, predict_test, err):\n",
    "    submission = pd.DataFrame()\n",
    "    submission['Id'] = test_Id \n",
    "    submission['SalePrice'] = np.expm1(predict_test)\n",
    "    file = model_name + '_' + str(round(err,5)) + '.csv'\n",
    "    return (submission, file)"
   ]
  },
  {
   "cell_type": "markdown",
   "metadata": {},
   "source": [
    "#### Lasso"
   ]
  },
  {
   "cell_type": "code",
   "execution_count": 143,
   "metadata": {},
   "outputs": [
    {
     "data": {
      "text/plain": [
       "\"min_error = 1.0\\nfor alpha in [0.0001, 0.0002, 0.0003, 0.0004, 0.0005, 0.0006, 0.0007, 0.0008, 0.0009, 0.001]:\\n    lasso = make_pipeline(RobustScaler(), Lasso(alpha=alpha, max_iter=5000))\\n    #lasso = make_pipeline(RobustScaler(), Lasso(alpha=alpha, max_iter=10000))\\n    error = cv_error(lasso).mean()\\n    std = cv_error(lasso).std()\\n    print ('alpha={}, error={:.5f}, std={:.5f}'.format(alpha, error, std))\\n    if error < min_error:\\n        min_error = error\\n        min_std = std\\n        fit_alpha = alpha        \\n        lasso_model = lasso\\nprint ('Lasso model: {}\\nalpha = {}, error = {:.5f}, std={:.5f}'.format(lasso_model, fit_alpha, min_error, min_std))\""
      ]
     },
     "execution_count": 143,
     "metadata": {},
     "output_type": "execute_result"
    }
   ],
   "source": [
    "'''min_error = 1.0\n",
    "for alpha in [0.0001, 0.0002, 0.0003, 0.0004, 0.0005, 0.0006, 0.0007, 0.0008, 0.0009, 0.001]:\n",
    "    lasso = make_pipeline(RobustScaler(), Lasso(alpha=alpha, max_iter=5000))\n",
    "    #lasso = make_pipeline(RobustScaler(), Lasso(alpha=alpha, max_iter=10000))\n",
    "    error = cv_error(lasso).mean()\n",
    "    std = cv_error(lasso).std()\n",
    "    print ('alpha={}, error={:.5f}, std={:.5f}'.format(alpha, error, std))\n",
    "    if error < min_error:\n",
    "        min_error = error\n",
    "        min_std = std\n",
    "        fit_alpha = alpha        \n",
    "        lasso_model = lasso\n",
    "print ('Lasso model: {}\\nalpha = {}, error = {:.5f}, std={:.5f}'.format(lasso_model, fit_alpha, min_error, min_std))'''"
   ]
  },
  {
   "cell_type": "code",
   "execution_count": 144,
   "metadata": {},
   "outputs": [
    {
     "name": "stdout",
     "output_type": "stream",
     "text": [
      "error=0.10280, std=0.01443\n"
     ]
    }
   ],
   "source": [
    "lasso_alpha = [0.0003, 0.0004, 0.0005, 0.0006, 0.0007, 0.0008]\n",
    "lasso = make_pipeline(RobustScaler(), LassoCV(alphas=lasso_alpha, max_iter=10000, cv=k))\n",
    "error = cv_error(lasso).mean()\n",
    "std = cv_error(lasso).std()\n",
    "#print ('Lasso model: {}'.format(lasso))\n",
    "print ('error={:.5f}, std={:.5f}'.format(error, std))\n",
    "#error=0.10280, std=0.01443"
   ]
  },
  {
   "cell_type": "code",
   "execution_count": 145,
   "metadata": {},
   "outputs": [
    {
     "name": "stdout",
     "output_type": "stream",
     "text": [
      "train set error: 0.09210\n"
     ]
    }
   ],
   "source": [
    "lasso.fit(X, y)\n",
    "lasso_predict_y = lasso.predict(X)\n",
    "train_set_err = get_error(y, lasso_predict_y)\n",
    "print('train set error: {:.5f}'.format(train_set_err))\n",
    "lasso_predict_test = lasso.predict(test)\n",
    "#train set error: 0.09210"
   ]
  },
  {
   "cell_type": "code",
   "execution_count": 146,
   "metadata": {},
   "outputs": [
    {
     "name": "stdout",
     "output_type": "stream",
     "text": [
      "lasso_0.0921.csv\n"
     ]
    }
   ],
   "source": [
    "lasso_submission, lasso_file = submission_file('lasso', lasso_predict_test, train_set_err)\n",
    "print (lasso_file)"
   ]
  },
  {
   "cell_type": "code",
   "execution_count": 147,
   "metadata": {},
   "outputs": [],
   "source": [
    "lasso_submission.to_csv(lasso_file, index=False)"
   ]
  },
  {
   "cell_type": "markdown",
   "metadata": {},
   "source": [
    "#### Ridge"
   ]
  },
  {
   "cell_type": "code",
   "execution_count": 148,
   "metadata": {},
   "outputs": [
    {
     "data": {
      "text/plain": [
       "\"min_error = 1.0\\nfor alpha in [10, 11, 12, 13, 14, 15, 16, 17, 18, 19, 20, 50, 100]:\\n    ridge = make_pipeline(RobustScaler(), Ridge(alpha=alpha))\\n    error = cv_error(ridge).mean()\\n    std = cv_error(ridge).std()\\n    print ('alpha={}, error={:.5f}, std={:.5f}'.format(alpha, error, std))\\n    if error <= min_error:\\n        min_error = error\\n        min_std = std\\n        fit_alpha = alpha        \\n        ridge_model = ridge\\nprint ('Ridge model: {}\\nalpha = {}, error = {:.5f}, std={:.5f}'.format(ridge_model, fit_alpha, min_error, min_std))\""
      ]
     },
     "execution_count": 148,
     "metadata": {},
     "output_type": "execute_result"
    }
   ],
   "source": [
    "'''min_error = 1.0\n",
    "for alpha in [10, 11, 12, 13, 14, 15, 16, 17, 18, 19, 20, 50, 100]:\n",
    "    ridge = make_pipeline(RobustScaler(), Ridge(alpha=alpha))\n",
    "    error = cv_error(ridge).mean()\n",
    "    std = cv_error(ridge).std()\n",
    "    print ('alpha={}, error={:.5f}, std={:.5f}'.format(alpha, error, std))\n",
    "    if error <= min_error:\n",
    "        min_error = error\n",
    "        min_std = std\n",
    "        fit_alpha = alpha        \n",
    "        ridge_model = ridge\n",
    "print ('Ridge model: {}\\nalpha = {}, error = {:.5f}, std={:.5f}'.format(ridge_model, fit_alpha, min_error, min_std))'''"
   ]
  },
  {
   "cell_type": "code",
   "execution_count": 149,
   "metadata": {},
   "outputs": [
    {
     "name": "stdout",
     "output_type": "stream",
     "text": [
      "error=0.10390, std=0.01363\n"
     ]
    }
   ],
   "source": [
    "#ridge_alpha = [10, 11, 12, 13, 14, 15, 16, 17, 18, 19, 20]\n",
    "#ridge_alpha = [10, 15, 20, 50, 100, 200, 300, 400, 500]\n",
    "ridge_alpha = [14, 14.5, 15, 15.5, 16]\n",
    "ridge = make_pipeline(RobustScaler(), RidgeCV(alphas=ridge_alpha, cv=k))\n",
    "error = cv_error(ridge).mean()\n",
    "std = cv_error(ridge).std()\n",
    "#print ('Ridge model: {}'.format(ridge))\n",
    "print ('error={:.5f}, std={:.5f}'.format(error, std))\n",
    "#error=0.10390, std=0.01363"
   ]
  },
  {
   "cell_type": "code",
   "execution_count": 150,
   "metadata": {},
   "outputs": [
    {
     "name": "stdout",
     "output_type": "stream",
     "text": [
      "train set error: 0.09022\n"
     ]
    }
   ],
   "source": [
    "ridge.fit(X, y)\n",
    "ridge_predict_y = ridge.predict(X)\n",
    "train_set_err = get_error(y, ridge_predict_y)\n",
    "print('train set error: {:.5f}'.format(train_set_err))\n",
    "ridge_predict_test = ridge.predict(test)\n",
    "#train set error: 0.09022"
   ]
  },
  {
   "cell_type": "code",
   "execution_count": 151,
   "metadata": {},
   "outputs": [
    {
     "name": "stdout",
     "output_type": "stream",
     "text": [
      "ridge_0.09022.csv\n"
     ]
    }
   ],
   "source": [
    "ridge_submission, ridge_file = submission_file('ridge', ridge_predict_test, train_set_err)\n",
    "print (ridge_file)"
   ]
  },
  {
   "cell_type": "code",
   "execution_count": 152,
   "metadata": {},
   "outputs": [],
   "source": [
    "ridge_submission.to_csv(ridge_file, index=False)"
   ]
  },
  {
   "cell_type": "markdown",
   "metadata": {},
   "source": [
    "#### ElasticNet"
   ]
  },
  {
   "cell_type": "code",
   "execution_count": 153,
   "metadata": {},
   "outputs": [
    {
     "data": {
      "text/plain": [
       "\"min_error = 1.0\\nmin_std = 0.1\\nfor alpha in [0.0001, 0.0002, 0.0003, 0.0004, 0.0005, 0.0006, 0.0007, 0.0008, 0.0009, 0.001]:\\n#for alpha in [0.0001, 0.0005, 0.001]:\\n    for ratio in [0.5, 0.6, 0.7, 0.8, 0.9, 0.95]:\\n    #for ratio in [0.7]:\\n        #enet = make_pipeline(RobustScaler(), ElasticNet(alpha=alpha, l1_ratio=ratio, max_iter=5000))\\n        enet = make_pipeline(RobustScaler(), ElasticNet(alpha=alpha, l1_ratio=ratio, max_iter=10000))\\n        error = cv_error(enet).mean()\\n        std = cv_error(enet).std()\\n        print ('ratio={}, alpha={}, error={:.5f}, std={:.5f}'.format(ratio, alpha, error, std))\\n        if error < min_error or std<min_std:\\n            min_error = error\\n            min_std = std\\n            fit_alpha = alpha    \\n            fit_ratio = ratio\\n            enet_model = enet\\nprint ('ElasticNet model: {}\\nl1_ratio={}, alpha = {}, error = {:.5f}, std={:.5f}'.format(\\n    enet_model, fit_ratio, fit_alpha, min_error, min_std))\""
      ]
     },
     "execution_count": 153,
     "metadata": {},
     "output_type": "execute_result"
    }
   ],
   "source": [
    "'''min_error = 1.0\n",
    "min_std = 0.1\n",
    "for alpha in [0.0001, 0.0002, 0.0003, 0.0004, 0.0005, 0.0006, 0.0007, 0.0008, 0.0009, 0.001]:\n",
    "#for alpha in [0.0001, 0.0005, 0.001]:\n",
    "    for ratio in [0.5, 0.6, 0.7, 0.8, 0.9, 0.95]:\n",
    "    #for ratio in [0.7]:\n",
    "        #enet = make_pipeline(RobustScaler(), ElasticNet(alpha=alpha, l1_ratio=ratio, max_iter=5000))\n",
    "        enet = make_pipeline(RobustScaler(), ElasticNet(alpha=alpha, l1_ratio=ratio, max_iter=10000))\n",
    "        error = cv_error(enet).mean()\n",
    "        std = cv_error(enet).std()\n",
    "        print ('ratio={}, alpha={}, error={:.5f}, std={:.5f}'.format(ratio, alpha, error, std))\n",
    "        if error < min_error or std<min_std:\n",
    "            min_error = error\n",
    "            min_std = std\n",
    "            fit_alpha = alpha    \n",
    "            fit_ratio = ratio\n",
    "            enet_model = enet\n",
    "print ('ElasticNet model: {}\\nl1_ratio={}, alpha = {}, error = {:.5f}, std={:.5f}'.format(\n",
    "    enet_model, fit_ratio, fit_alpha, min_error, min_std))'''\n",
    "#ratio=0.7, alpha=0.0005, error=0.10251, std=0.01443\n",
    "#ratio=0.5, alpha=0.0007, error=0.10251, std=0.01442\n",
    "#ratio=0.5, alpha=0.0008, error=0.10251, std=0.01439"
   ]
  },
  {
   "cell_type": "code",
   "execution_count": 154,
   "metadata": {},
   "outputs": [
    {
     "name": "stdout",
     "output_type": "stream",
     "text": [
      "error=0.10288, std=0.01438\n"
     ]
    }
   ],
   "source": [
    "enet_alpha = [0.0003, 0.0004, 0.0005, 0.0006, 0.0007, 0.0008, 0.0009]\n",
    "ratio = [0.5, 0.6, 0.7, 0.8, 0.9, 0.95]  \n",
    "enet = make_pipeline(RobustScaler(), ElasticNetCV(max_iter=10000, alphas=enet_alpha, cv=k, l1_ratio=ratio))\n",
    "error = cv_error(enet).mean()\n",
    "std = cv_error(enet).std()\n",
    "#print ('ElasticNet model: {}'.format(enet))\n",
    "print ('error={:.5f}, std={:.5f}'.format(error, std))\n",
    "#error=0.10288, std=0.01438"
   ]
  },
  {
   "cell_type": "code",
   "execution_count": 155,
   "metadata": {},
   "outputs": [
    {
     "name": "stdout",
     "output_type": "stream",
     "text": [
      "train set error: 0.09159\n"
     ]
    }
   ],
   "source": [
    "enet.fit(X,y)\n",
    "enet_predict_y = enet.predict(X)\n",
    "train_set_err = get_error(y, enet_predict_y)\n",
    "print('train set error: {:.5f}'.format(train_set_err))\n",
    "enet_predict_test = enet.predict(test)\n",
    "#train set error: 0.09159"
   ]
  },
  {
   "cell_type": "code",
   "execution_count": 156,
   "metadata": {},
   "outputs": [
    {
     "name": "stdout",
     "output_type": "stream",
     "text": [
      "enet_0.09159.csv\n"
     ]
    }
   ],
   "source": [
    "enet_submission, enet_file = submission_file('enet', enet_predict_test, train_set_err)\n",
    "print (enet_file)"
   ]
  },
  {
   "cell_type": "code",
   "execution_count": 187,
   "metadata": {},
   "outputs": [],
   "source": [
    "enet_submission.to_csv(enet_file, index=False)"
   ]
  },
  {
   "cell_type": "markdown",
   "metadata": {},
   "source": [
    "#### SVR"
   ]
  },
  {
   "cell_type": "code",
   "execution_count": 158,
   "metadata": {},
   "outputs": [],
   "source": [
    "#for "
   ]
  },
  {
   "cell_type": "code",
   "execution_count": 159,
   "metadata": {},
   "outputs": [
    {
     "name": "stdout",
     "output_type": "stream",
     "text": [
      "error=0.10292, std=0.01619\n"
     ]
    }
   ],
   "source": [
    "svr = make_pipeline(RobustScaler(), SVR(C= 20, epsilon= 0.008, gamma=0.0003))\n",
    "error = cv_error(svr).mean()\n",
    "std = cv_error(svr).std()\n",
    "#print ('SVR model: {}'.format(enet))\n",
    "print ('error={:.5f}, std={:.5f}'.format(error, std))\n",
    "#error=0.10292, std=0.01619"
   ]
  },
  {
   "cell_type": "code",
   "execution_count": 160,
   "metadata": {},
   "outputs": [
    {
     "name": "stdout",
     "output_type": "stream",
     "text": [
      "train set error: 0.08048\n"
     ]
    }
   ],
   "source": [
    "svr.fit(X,y)\n",
    "svr_predict_y = svr.predict(X)\n",
    "train_set_err = get_error(y, svr_predict_y)\n",
    "print('train set error: {:.5f}'.format(train_set_err))\n",
    "svr_predict_test = svr.predict(test)\n",
    "#train set error: 0.08048"
   ]
  },
  {
   "cell_type": "code",
   "execution_count": 161,
   "metadata": {},
   "outputs": [
    {
     "name": "stdout",
     "output_type": "stream",
     "text": [
      "svr_0.08048.csv\n"
     ]
    }
   ],
   "source": [
    "svr_submission, svr_file = submission_file('svr', svr_predict_test, train_set_err)\n",
    "print (svr_file)"
   ]
  },
  {
   "cell_type": "code",
   "execution_count": 162,
   "metadata": {},
   "outputs": [],
   "source": [
    "svr_submission.to_csv(svr_file, index=False)"
   ]
  },
  {
   "cell_type": "markdown",
   "metadata": {},
   "source": [
    "#### Gradient Boosting Regression"
   ]
  },
  {
   "cell_type": "code",
   "execution_count": 163,
   "metadata": {},
   "outputs": [
    {
     "data": {
      "text/plain": [
       "\"gb = GradientBoostingRegressor(n_estimators=1000, learning_rate=0.05, max_depth=3, \\n                                max_features='sqrt', min_samples_leaf=15, min_samples_split=10, \\n                                loss='huber')                             \\nerror = cv_error(gb).mean()\\nstd = cv_error(gb).std()\\nprint ('Gradient Boost model: {}'.format(gb))\\nprint ('error={:.5f}, std={:.5f}'.format(error, std))\""
      ]
     },
     "execution_count": 163,
     "metadata": {},
     "output_type": "execute_result"
    }
   ],
   "source": [
    "'''gb = GradientBoostingRegressor(n_estimators=1000, learning_rate=0.05, max_depth=3, \n",
    "                                max_features='sqrt', min_samples_leaf=15, min_samples_split=10, \n",
    "                                loss='huber')                             \n",
    "error = cv_error(gb).mean()\n",
    "std = cv_error(gb).std()\n",
    "print ('Gradient Boost model: {}'.format(gb))\n",
    "print ('error={:.5f}, std={:.5f}'.format(error, std))'''"
   ]
  },
  {
   "cell_type": "code",
   "execution_count": 164,
   "metadata": {},
   "outputs": [
    {
     "name": "stdout",
     "output_type": "stream",
     "text": [
      "Gradient Boost model: GradientBoostingRegressor(alpha=0.9, criterion='friedman_mse', init=None,\n",
      "                          learning_rate=0.05, loss='huber', max_depth=4,\n",
      "                          max_features='sqrt', max_leaf_nodes=None,\n",
      "                          min_impurity_decrease=0.0, min_impurity_split=None,\n",
      "                          min_samples_leaf=15, min_samples_split=10,\n",
      "                          min_weight_fraction_leaf=0.0, n_estimators=3000,\n",
      "                          n_iter_no_change=None, presort='auto',\n",
      "                          random_state=None, subsample=1.0, tol=0.0001,\n",
      "                          validation_fraction=0.1, verbose=0, warm_start=False)\n",
      "error=0.10766, std=0.01607\n"
     ]
    }
   ],
   "source": [
    "gb = GradientBoostingRegressor(n_estimators=3000, learning_rate=0.05, max_depth=4, \n",
    "                                max_features='sqrt', min_samples_leaf=15, min_samples_split=10, \n",
    "                                loss='huber')                             \n",
    "error = cv_error(gb).mean()\n",
    "std = cv_error(gb).std()\n",
    "print ('Gradient Boost model: {}'.format(gb))\n",
    "print ('error={:.5f}, std={:.5f}'.format(error, std))\n",
    "#error=0.10597, std=0.01570"
   ]
  },
  {
   "cell_type": "code",
   "execution_count": 165,
   "metadata": {},
   "outputs": [
    {
     "name": "stdout",
     "output_type": "stream",
     "text": [
      "train set error: 0.04436\n"
     ]
    }
   ],
   "source": [
    "gb.fit(X,y)\n",
    "gb_predict_y = gb.predict(X)\n",
    "train_set_err = get_error(y, gb_predict_y)\n",
    "print('train set error: {:.5f}'.format(train_set_err))\n",
    "gb_predict_test = gb.predict(test)\n",
    "#train set error: 0.04412"
   ]
  },
  {
   "cell_type": "code",
   "execution_count": 166,
   "metadata": {},
   "outputs": [
    {
     "name": "stdout",
     "output_type": "stream",
     "text": [
      "gb_0.04436.csv\n"
     ]
    }
   ],
   "source": [
    "gb_submission, gb_file = submission_file('gb', gb_predict_test, train_set_err)\n",
    "print (gb_file)"
   ]
  },
  {
   "cell_type": "code",
   "execution_count": 167,
   "metadata": {},
   "outputs": [],
   "source": [
    "gb_submission.to_csv(gb_file, index=False)"
   ]
  },
  {
   "cell_type": "markdown",
   "metadata": {},
   "source": [
    "#### XGBoost Regression"
   ]
  },
  {
   "cell_type": "code",
   "execution_count": 168,
   "metadata": {},
   "outputs": [
    {
     "name": "stderr",
     "output_type": "stream",
     "text": [
      "//anaconda3/lib/python3.7/site-packages/xgboost/core.py:587: FutureWarning: Series.base is deprecated and will be removed in a future version\n",
      "  if getattr(data, 'base', None) is not None and \\\n",
      "//anaconda3/lib/python3.7/site-packages/xgboost/core.py:587: FutureWarning: Series.base is deprecated and will be removed in a future version\n",
      "  if getattr(data, 'base', None) is not None and \\\n",
      "//anaconda3/lib/python3.7/site-packages/xgboost/core.py:587: FutureWarning: Series.base is deprecated and will be removed in a future version\n",
      "  if getattr(data, 'base', None) is not None and \\\n",
      "//anaconda3/lib/python3.7/site-packages/xgboost/core.py:587: FutureWarning: Series.base is deprecated and will be removed in a future version\n",
      "  if getattr(data, 'base', None) is not None and \\\n",
      "//anaconda3/lib/python3.7/site-packages/xgboost/core.py:587: FutureWarning: Series.base is deprecated and will be removed in a future version\n",
      "  if getattr(data, 'base', None) is not None and \\\n",
      "//anaconda3/lib/python3.7/site-packages/xgboost/core.py:587: FutureWarning: Series.base is deprecated and will be removed in a future version\n",
      "  if getattr(data, 'base', None) is not None and \\\n",
      "//anaconda3/lib/python3.7/site-packages/xgboost/core.py:587: FutureWarning: Series.base is deprecated and will be removed in a future version\n",
      "  if getattr(data, 'base', None) is not None and \\\n",
      "//anaconda3/lib/python3.7/site-packages/xgboost/core.py:587: FutureWarning: Series.base is deprecated and will be removed in a future version\n",
      "  if getattr(data, 'base', None) is not None and \\\n",
      "//anaconda3/lib/python3.7/site-packages/xgboost/core.py:587: FutureWarning: Series.base is deprecated and will be removed in a future version\n",
      "  if getattr(data, 'base', None) is not None and \\\n",
      "//anaconda3/lib/python3.7/site-packages/xgboost/core.py:587: FutureWarning: Series.base is deprecated and will be removed in a future version\n",
      "  if getattr(data, 'base', None) is not None and \\\n",
      "//anaconda3/lib/python3.7/site-packages/xgboost/core.py:587: FutureWarning: Series.base is deprecated and will be removed in a future version\n",
      "  if getattr(data, 'base', None) is not None and \\\n",
      "//anaconda3/lib/python3.7/site-packages/xgboost/core.py:587: FutureWarning: Series.base is deprecated and will be removed in a future version\n",
      "  if getattr(data, 'base', None) is not None and \\\n",
      "//anaconda3/lib/python3.7/site-packages/xgboost/core.py:587: FutureWarning: Series.base is deprecated and will be removed in a future version\n",
      "  if getattr(data, 'base', None) is not None and \\\n",
      "//anaconda3/lib/python3.7/site-packages/xgboost/core.py:587: FutureWarning: Series.base is deprecated and will be removed in a future version\n",
      "  if getattr(data, 'base', None) is not None and \\\n",
      "//anaconda3/lib/python3.7/site-packages/xgboost/core.py:587: FutureWarning: Series.base is deprecated and will be removed in a future version\n",
      "  if getattr(data, 'base', None) is not None and \\\n",
      "//anaconda3/lib/python3.7/site-packages/xgboost/core.py:587: FutureWarning: Series.base is deprecated and will be removed in a future version\n",
      "  if getattr(data, 'base', None) is not None and \\\n",
      "//anaconda3/lib/python3.7/site-packages/xgboost/core.py:587: FutureWarning: Series.base is deprecated and will be removed in a future version\n",
      "  if getattr(data, 'base', None) is not None and \\\n",
      "//anaconda3/lib/python3.7/site-packages/xgboost/core.py:587: FutureWarning: Series.base is deprecated and will be removed in a future version\n",
      "  if getattr(data, 'base', None) is not None and \\\n",
      "//anaconda3/lib/python3.7/site-packages/xgboost/core.py:587: FutureWarning: Series.base is deprecated and will be removed in a future version\n",
      "  if getattr(data, 'base', None) is not None and \\\n",
      "//anaconda3/lib/python3.7/site-packages/xgboost/core.py:587: FutureWarning: Series.base is deprecated and will be removed in a future version\n",
      "  if getattr(data, 'base', None) is not None and \\\n"
     ]
    },
    {
     "name": "stdout",
     "output_type": "stream",
     "text": [
      "XGBoost model: XGBRegressor(base_score=0.5, booster='gbtree', colsample_bylevel=1,\n",
      "             colsample_bynode=1, colsample_bytree=0.7, gamma=0,\n",
      "             importance_type='gain', learning_rate=0.05, max_delta_step=0,\n",
      "             max_depth=3, min_child_weight=0, missing=None, n_estimators=3000,\n",
      "             n_jobs=1, nthread=-1, objective='reg:squarederror', random_state=0,\n",
      "             reg_alpha=6e-05, reg_lambda=1, scale_pos_weight=1, seed=27,\n",
      "             silent=None, subsample=0.7, verbosity=1)\n",
      "error=0.10851, std=0.01467\n"
     ]
    }
   ],
   "source": [
    "xgb = XGBRegressor(learning_rate=0.05, n_estimators=3000, max_depth=3, \n",
    "                   colsample_bytree=0.7, objective='reg:squarederror',\n",
    "                   nthread=-1, min_child_weight=0, gamma=0, subsample=0.7, \n",
    "                   scale_pos_weight=1, seed=27, reg_alpha=0.00006)\n",
    "error = cv_error(xgb).mean()\n",
    "std = cv_error(xgb).std()\n",
    "print ('XGBoost model: {}'.format(xgb))\n",
    "print ('error={:.5f}, std={:.5f}'.format(error, std))\n",
    "#error=0.10858, std=0.01381\n",
    "#error=0.10851, std=0.01467"
   ]
  },
  {
   "cell_type": "code",
   "execution_count": 169,
   "metadata": {},
   "outputs": [
    {
     "name": "stderr",
     "output_type": "stream",
     "text": [
      "//anaconda3/lib/python3.7/site-packages/xgboost/core.py:587: FutureWarning: Series.base is deprecated and will be removed in a future version\n",
      "  if getattr(data, 'base', None) is not None and \\\n"
     ]
    },
    {
     "name": "stdout",
     "output_type": "stream",
     "text": [
      "train set error: 0.01078\n"
     ]
    }
   ],
   "source": [
    "xgb.fit(X,y)\n",
    "xgb_predict_y = xgb.predict(X)\n",
    "train_set_err = get_error(y, xgb_predict_y)\n",
    "print('train set error: {:.5f}'.format(train_set_err))\n",
    "xgb_predict_test = xgb.predict(test)\n",
    "#train set error: 0.01078"
   ]
  },
  {
   "cell_type": "code",
   "execution_count": 170,
   "metadata": {},
   "outputs": [
    {
     "name": "stdout",
     "output_type": "stream",
     "text": [
      "xgb_0.01078.csv\n"
     ]
    }
   ],
   "source": [
    "xgb_submission, xgb_file = submission_file('xgb', xgb_predict_test, train_set_err)\n",
    "print (xgb_file)"
   ]
  },
  {
   "cell_type": "code",
   "execution_count": 171,
   "metadata": {},
   "outputs": [],
   "source": [
    "xgb_submission.to_csv(xgb_file, index=False)"
   ]
  },
  {
   "cell_type": "code",
   "execution_count": 172,
   "metadata": {},
   "outputs": [
    {
     "data": {
      "text/plain": [
       "\"xgb = XGBRegressor(learning_rate=0.05, n_estimators=3000, max_depth=3, \\n                   colsample_bytree=0.7,\\n                   objective='reg:squarederror',\\n                   nthread=-1, min_child_weight=0, gamma=0, subsample=0.7, \\n                   scale_pos_weight=1, seed=27, reg_alpha=0.00006)\\nerror = cv_error(xgb).mean()\\nstd = cv_error(xgb).std()\\nprint ('XGBoost model: {}'.format(xgb))\\nprint ('error={:.5f}, std={:.5f}'.format(error, std))  \\n#error=0.10851, std=0.01467\\nxgb.fit(X,y)\\nxgb_predict_y = xgb.predict(X)\\ntrain_set_err = get_error(y, xgb_predict_y)\\nprint('train set error: {:.5f}'.format(train_set_err))\\nxgb_predict_test = xgb.predict(test)\\n#train set error: 0.05238\""
      ]
     },
     "execution_count": 172,
     "metadata": {},
     "output_type": "execute_result"
    }
   ],
   "source": [
    "'''xgb = XGBRegressor(learning_rate=0.05, n_estimators=3000, max_depth=3, \n",
    "                   colsample_bytree=0.7,\n",
    "                   objective='reg:squarederror',\n",
    "                   nthread=-1, min_child_weight=0, gamma=0, subsample=0.7, \n",
    "                   scale_pos_weight=1, seed=27, reg_alpha=0.00006)\n",
    "error = cv_error(xgb).mean()\n",
    "std = cv_error(xgb).std()\n",
    "print ('XGBoost model: {}'.format(xgb))\n",
    "print ('error={:.5f}, std={:.5f}'.format(error, std))  \n",
    "#error=0.10851, std=0.01467\n",
    "xgb.fit(X,y)\n",
    "xgb_predict_y = xgb.predict(X)\n",
    "train_set_err = get_error(y, xgb_predict_y)\n",
    "print('train set error: {:.5f}'.format(train_set_err))\n",
    "xgb_predict_test = xgb.predict(test)\n",
    "#train set error: 0.05238'''"
   ]
  },
  {
   "cell_type": "markdown",
   "metadata": {},
   "source": [
    "#### Mean pedictions"
   ]
  },
  {
   "cell_type": "code",
   "execution_count": 173,
   "metadata": {},
   "outputs": [
    {
     "name": "stdout",
     "output_type": "stream",
     "text": [
      "0.06473\n"
     ]
    }
   ],
   "source": [
    "predict_y_mean = np.stack((lasso_predict_y, ridge_predict_y, enet_predict_y,\n",
    "                           svr_predict_y, gb_predict_y, xgb_predict_y), axis=-1)\n",
    "predict_y_mean = np.mean(predict_y_mean, axis=1)\n",
    "mean_err = get_error(y, predict_y_mean)\n",
    "print('{:.5f}'.format(mean_err))\n",
    "#0.06467"
   ]
  },
  {
   "cell_type": "code",
   "execution_count": 174,
   "metadata": {},
   "outputs": [],
   "source": [
    "predict_test_mean = np.stack((lasso_predict_test, ridge_predict_test, enet_predict_test,\n",
    "                         svr_predict_test, gb_predict_test, xgb_predict_test), axis=-1)\n",
    "predict_test_mean = np.mean(predict_test_mean, axis=1)"
   ]
  },
  {
   "cell_type": "code",
   "execution_count": 175,
   "metadata": {},
   "outputs": [
    {
     "name": "stdout",
     "output_type": "stream",
     "text": [
      "mean_0.06473.csv\n"
     ]
    }
   ],
   "source": [
    "mean_submission, mean_file = submission_file('mean', predict_test_mean, mean_err)\n",
    "print (mean_file)"
   ]
  },
  {
   "cell_type": "code",
   "execution_count": 176,
   "metadata": {},
   "outputs": [],
   "source": [
    "mean_submission.to_csv(mean_file, index=False)"
   ]
  },
  {
   "cell_type": "markdown",
   "metadata": {},
   "source": [
    "### Meta model"
   ]
  },
  {
   "cell_type": "code",
   "execution_count": 219,
   "metadata": {},
   "outputs": [],
   "source": [
    "stack = StackingCVRegressor(regressors=(lasso, ridge, enet, svr, gb, xgb),\n",
    "                            meta_regressor=lasso,\n",
    "                            use_features_in_secondary=True)"
   ]
  },
  {
   "cell_type": "code",
   "execution_count": 220,
   "metadata": {},
   "outputs": [
    {
     "name": "stdout",
     "output_type": "stream",
     "text": [
      "0.06020\n"
     ]
    }
   ],
   "source": [
    "stack.fit(np.array(X), np.array(y))\n",
    "stack_predict_y = stack.predict(np.array(X))\n",
    "stack_err = get_error(y, stack_predict_y)\n",
    "print('{:.5f}'.format(stack_err))\n",
    "stack_predict_test = stack.predict(np.array(test))\n",
    "#0.05855\n",
    "#0.04906\n",
    "#lasso: 0.06850"
   ]
  },
  {
   "cell_type": "code",
   "execution_count": 221,
   "metadata": {},
   "outputs": [
    {
     "name": "stdout",
     "output_type": "stream",
     "text": [
      "lasso_stack_0.0602.csv\n"
     ]
    }
   ],
   "source": [
    "stack_submission, stack_file = submission_file('lasso_stack', stack_predict_test, stack_err)\n",
    "print (stack_file)"
   ]
  },
  {
   "cell_type": "code",
   "execution_count": 222,
   "metadata": {},
   "outputs": [],
   "source": [
    "stack_submission.to_csv(stack_file, index=False)"
   ]
  },
  {
   "cell_type": "code",
   "execution_count": null,
   "metadata": {},
   "outputs": [],
   "source": []
  },
  {
   "cell_type": "code",
   "execution_count": null,
   "metadata": {},
   "outputs": [],
   "source": []
  },
  {
   "cell_type": "code",
   "execution_count": null,
   "metadata": {},
   "outputs": [],
   "source": []
  },
  {
   "cell_type": "code",
   "execution_count": 223,
   "metadata": {},
   "outputs": [
    {
     "data": {
      "text/plain": [
       "1.0"
      ]
     },
     "execution_count": 223,
     "metadata": {},
     "output_type": "execute_result"
    }
   ],
   "source": [
    "w = [0.16, 0.16, 0.2, 0.12, 0.12, 0.12, 0.12]   #0.06508\n",
    "#w = [0.16, 0.09, 0.15, 0.09, 0.1, 0.16, 0.25]\n",
    "sum(w)"
   ]
  },
  {
   "cell_type": "code",
   "execution_count": 224,
   "metadata": {},
   "outputs": [
    {
     "name": "stdout",
     "output_type": "stream",
     "text": [
      "0.06810\n"
     ]
    }
   ],
   "source": [
    "blend_y =  (w[0] * lasso_predict_y + \\\n",
    "            w[1] * ridge_predict_y + \\\n",
    "            w[2] * enet_predict_y + \\\n",
    "            w[3] * svr_predict_y + \\\n",
    "            w[4] * gb_predict_y + \\\n",
    "            w[5] * xgb_predict_y + \\\n",
    "            w[6] * stack_predict_y)\n",
    "blend_err = get_error(y, blend_y)\n",
    "print('{:.5f}'.format(blend_err))\n",
    "#0.06508"
   ]
  },
  {
   "cell_type": "code",
   "execution_count": 225,
   "metadata": {},
   "outputs": [],
   "source": [
    "blend_test =  (w[0] * lasso_predict_test + \\\n",
    "            w[1] * ridge_predict_test + \\\n",
    "            w[2] * enet_predict_test + \\\n",
    "            w[3] * svr_predict_test + \\\n",
    "            w[4] * gb_predict_test + \\\n",
    "            w[5] * xgb_predict_test + \\\n",
    "            w[6] * stack_predict_test)"
   ]
  },
  {
   "cell_type": "code",
   "execution_count": 226,
   "metadata": {},
   "outputs": [
    {
     "name": "stdout",
     "output_type": "stream",
     "text": [
      "blend_submission_0.0681.csv\n"
     ]
    }
   ],
   "source": [
    "blend_submission = pd.DataFrame()\n",
    "blend_submission['Id'] = test_Id \n",
    "blend_submission['SalePrice'] = np.expm1(blend_test)\n",
    "blend_file = 'blend_submission_' + str(round(blend_err,5)) + '.csv'\n",
    "print(blend_file)"
   ]
  },
  {
   "cell_type": "code",
   "execution_count": 227,
   "metadata": {},
   "outputs": [
    {
     "name": "stdout",
     "output_type": "stream",
     "text": [
      "blend_submission_0.0681.csv\n"
     ]
    }
   ],
   "source": [
    "blend_submission, stack_file = submission_file('blend', blend_test, blend_err)\n",
    "print (blend_file)"
   ]
  },
  {
   "cell_type": "code",
   "execution_count": 228,
   "metadata": {},
   "outputs": [],
   "source": [
    "blend_submission.to_csv(blend_file, index=False)"
   ]
  },
  {
   "cell_type": "code",
   "execution_count": null,
   "metadata": {},
   "outputs": [],
   "source": []
  },
  {
   "cell_type": "code",
   "execution_count": null,
   "metadata": {},
   "outputs": [],
   "source": []
  },
  {
   "cell_type": "code",
   "execution_count": null,
   "metadata": {},
   "outputs": [],
   "source": []
  },
  {
   "cell_type": "code",
   "execution_count": null,
   "metadata": {},
   "outputs": [],
   "source": []
  }
 ],
 "metadata": {
  "kernelspec": {
   "display_name": "Python 3",
   "language": "python",
   "name": "python3"
  },
  "language_info": {
   "codemirror_mode": {
    "name": "ipython",
    "version": 3
   },
   "file_extension": ".py",
   "mimetype": "text/x-python",
   "name": "python",
   "nbconvert_exporter": "python",
   "pygments_lexer": "ipython3",
   "version": "3.7.3"
  }
 },
 "nbformat": 4,
 "nbformat_minor": 4
}
